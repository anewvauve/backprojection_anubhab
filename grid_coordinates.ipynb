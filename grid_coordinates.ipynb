{
 "cells": [
  {
   "cell_type": "code",
   "execution_count": 51,
   "id": "e9f31274-0b6a-45cc-94ae-acb1f8afec92",
   "metadata": {},
   "outputs": [
    {
     "name": "stdout",
     "output_type": "stream",
     "text": [
      "(34.220499186512654, 34.54995499549955)\n",
      "(34.61024959325633, 34.774977497749774)\n",
      "(35.0, 35.0)\n",
      "(35.38975040674367, 35.225022502250226)\n",
      "(35.779500813487346, 35.45004500450045)\n",
      "5\n"
     ]
    }
   ],
   "source": [
    "import numpy as np\n",
    "import matplotlib.pyplot as plt\n",
    "\n",
    "#this function gives the coordinates of each grid point at either strike extend. assuming both latitude and longitude values to be 111.1km = 1 degree.\n",
    "\n",
    "def strike_coords(strike, event_lat, event_long,extend):\n",
    "    y_dist=extend * (np.cos(np.deg2rad(strike)))\n",
    "    new_lat= event_lat + (y_dist/111.1)\n",
    "    x_dist=extend * (np.sin(np.deg2rad(strike)))\n",
    "    new_long= event_long + (x_dist/111.1) \n",
    "    return new_lat, new_long\n",
    "\n",
    "def strike_coords_grid_list(strike, event_lat, event_long,extend, gridsize):\n",
    "    lat_long_list=[]\n",
    "    grid_list=np.arange(0,1,gridsize, dtype=float)\n",
    "    rev_grid_list=grid_list[::-1]\n",
    "    for j in rev_grid_list:\n",
    "        lat_long_list.append(strike_coords(strike, event_lat, event_long, (-1)*extend*(j + gridsize)))\n",
    "    lat_long_list.append(strike_coords(strike, event_lat, event_long, 0))\n",
    "    for i in grid_list:\n",
    "        lat_long_list.append(strike_coords(strike, event_lat, event_long, extend*(i + gridsize)))\n",
    "    \n",
    "    return lat_long_list\n",
    "\n",
    "a =strike_coords_grid_list(30, 35, 35, 100, 0.5) \n",
    "for i in a:\n",
    "        print(i)\n",
    "print(len(a))\n",
    "\n",
    "#modify this function to create the entire grid, since this function only gives the grid points along the strike.(use complementary angle stuffs).\n",
    "    \n",
    "\n"
   ]
  },
  {
   "cell_type": "code",
   "execution_count": null,
   "id": "21168c06-04e1-4816-b90a-6accadaa6ab2",
   "metadata": {},
   "outputs": [],
   "source": [
    "\n",
    "        \n",
    "    \n",
    "    "
   ]
  },
  {
   "cell_type": "code",
   "execution_count": null,
   "id": "f7e913aa-5794-45c4-a206-e5c7d580dcce",
   "metadata": {},
   "outputs": [],
   "source": []
  },
  {
   "cell_type": "code",
   "execution_count": null,
   "id": "fbff9644-b55a-461e-b702-196ad114ad5b",
   "metadata": {},
   "outputs": [],
   "source": []
  }
 ],
 "metadata": {
  "kernelspec": {
   "display_name": "Python 3 (ipykernel)",
   "language": "python",
   "name": "python3"
  },
  "language_info": {
   "codemirror_mode": {
    "name": "ipython",
    "version": 3
   },
   "file_extension": ".py",
   "mimetype": "text/x-python",
   "name": "python",
   "nbconvert_exporter": "python",
   "pygments_lexer": "ipython3",
   "version": "3.10.13"
  }
 },
 "nbformat": 4,
 "nbformat_minor": 5
}
