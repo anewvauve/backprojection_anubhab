{
 "cells": [
  {
   "cell_type": "code",
   "execution_count": 41,
   "id": "86ff491b-0b05-4a68-ac6a-84313a990c7a",
   "metadata": {},
   "outputs": [
    {
     "name": "stdout",
     "output_type": "stream",
     "text": [
      "number of grid points =  121\n",
      "len of each grid unit is=  63.59031170798394 km\n"
     ]
    },
    {
     "data": {
      "image/png": "[encoded data removed]",
      "text/plain": [
       "<Figure size 640x480 with 1 Axes>"
      ]
     },
     "metadata": {},
     "output_type": "display_data"
    }
   ],
   "source": [
    "import numpy as np\n",
    "import matplotlib.pyplot as plt\n",
    "\n",
    "#this function gives the coordinates of each grid point at variable x and y extends. \n",
    "#make the functions \"strike_coords\" and \"strike_coords_list\" into one function. then make the functions \"strikstrike_coords_grid_list\" and \"makemake_source_grid_along_strike\" into a single function as well, so that the output is the same.\n",
    "\n",
    "latitudes=[] \n",
    "longitudes=[]\n",
    "\n",
    "strike = 58\n",
    "event_lat= 37.2251\n",
    "event_long=37.0209\n",
    "x_extend=600 \n",
    "y_extend=200\n",
    "\n",
    "gridsize=0.20 #in terms of spacing, so essentially gridsize = 0.1 would result in a particular number of points\n",
    "\n",
    "def strike_coords(strike, event_lat, event_long,extend):\n",
    "    y_dist=extend * (np.cos(np.deg2rad(strike)))\n",
    "    new_lat= event_lat + (y_dist/111.1)\n",
    "    x_dist=extend * (np.sin(np.deg2rad(strike)))\n",
    "    denom = 111.32 * np.cos(np.deg2rad(event_lat))\n",
    "    if np.abs(denom) < 1e-2:\n",
    "        new_long = event_long  # No reliable longitude change, would result in unsuitable values\n",
    "    else:\n",
    "        new_long = event_long + (x_dist / denom)\n",
    "    \n",
    "    return new_lat, new_long #returns longtitudes an latitudes along one direction of strike.\n",
    "\n",
    "def strike_coords_list(strike, event_lat, event_long,extend, gridsize):\n",
    "    lat_long_list=[]\n",
    "    grid_list=np.arange(0,1,gridsize, dtype=float)\n",
    "    rev_grid_list=grid_list[::-1]\n",
    "    for j in rev_grid_list:\n",
    "        lat_long_list.append(strike_coords(strike, event_lat, event_long, (-1)*extend*(j + gridsize)))\n",
    "    lat_long_list.append(strike_coords(strike, event_lat, event_long, 0))\n",
    "    for i in grid_list:\n",
    "        lat_long_list.append(strike_coords(strike, event_lat, event_long, extend*(i + gridsize)))\n",
    "    \n",
    "    return lat_long_list #returns a list of lat and long along opposite directions, along the strike from th source point. \n",
    "\n",
    "def strike_coords_list_eqspaced(strike, event_lat, event_long, extend, gridsize):\n",
    "    \n",
    "\n",
    "def make_source_grid_along_strike(strike, event_lat, event_long, x_extend, y_extend, gridsize):\n",
    "\n",
    "    '''The main differences in this function from the previous make_source_grid_hetero are\n",
    "    1)This function orients the source grid along the strike direction\n",
    "    2)This function has its x and y extends in Kms, rather than in degrees. although \n",
    "    there can be a \n",
    "    modification made so that we can input in degrees rather than in kilometers\n",
    "    '''\n",
    "    \n",
    "    grid_list=[]\n",
    "    temp=[]\n",
    "    strike_perpendicular = (strike + 90) % 360\n",
    "    strike_perpendicular_list=strike_coords_list(strike_perpendicular, event_lat, event_long, y_extend, gridsize)\n",
    "    for i in strike_perpendicular_list:\n",
    "        temp=strike_coords_list(strike, i[0], i[1], x_extend, gridsize)\n",
    "        grid_list.append(temp)\n",
    "        temp=[]\n",
    "    slat=[]\n",
    "    slong=[]\n",
    "    slat = [coord[0] for row in grid_list for coord in row]\n",
    "    slong= [coord[1] for row in grid_list for coord in row]\n",
    "    return slong, slat\n",
    "    \n",
    "\n",
    "\n",
    "    \n",
    "\n",
    "longitudes, latitudes= make_source_grid_along_strike(strike, event_lat, event_long, x_extend, y_extend, gridsize )\n",
    "\n",
    "print(\"number of grid points = \", len(latitudes))\n",
    "#print(\"number of grid points, long = \", len(longitudes))\n",
    "gridlen=(latitudes[3] - latitudes[2]) * 111.1\n",
    "#gridwid =(longitudes[24] - longitudes[299])\n",
    "print(\"len of each grid unit is= \", gridlen, \"km\")\n",
    "#print(\"wid of each grid unit is= \", gridwid)\n",
    "\n",
    "\n",
    "\n",
    "\n",
    "plt.scatter(longitudes, latitudes)\n",
    "plt.show()\n",
    "\n",
    "#current task - incorporate this code into bp.lib , return long and lat on the function. basically what you have to do is \n",
    "#the currrent grid is just placed arbitrarily, without orienting itself to the strike, your job is to make the grid orient along the strike. \n",
    "\n",
    "#current problem - it makes the equal number of points in either directions, which is not what we want, we wnat them to be equally spaced, basically square grids.\n",
    "#modify function as said above. \n",
    "\n"
   ]
  },
  {
   "cell_type": "code",
   "execution_count": 31,
   "id": "9b6ea02a-2148-4d81-b499-bdd9e26c4eb0",
   "metadata": {},
   "outputs": [
    {
     "name": "stdout",
     "output_type": "stream",
     "text": [
      "number of grid points =  4800\n",
      "number of grid points longitudinally =  4800\n"
     ]
    },
    {
     "data": {
      "image/png": "[encoded data removed]",
      "text/plain": [
       "<Figure size 640x480 with 1 Axes>"
      ]
     },
     "metadata": {},
     "output_type": "display_data"
    }
   ],
   "source": [
    "def make_source_grid_hetero(event_long,event_lat,source_grid_extend_x,\n",
    "                            source_grid_extend_y,source_grid_size): #my job is to make this function orient to the strike direction. \n",
    "    '''\n",
    "    This function makes potential source grid around the epicentre in a area\n",
    "    defined by a variable source_grid_extend in x and y directions, discretized at a constant\n",
    "    source_grid_size\n",
    "    Returns   slat ,slong\n",
    "\n",
    "    '''\n",
    "    x=np.arange(event_long-source_grid_extend_x,event_long+source_grid_extend_x,source_grid_size)\n",
    "    y=np.arange(event_lat-source_grid_extend_y,event_lat+source_grid_extend_y,source_grid_size)\n",
    "    slat = []\n",
    "    slong = []\n",
    "    for i in range(np.size(x)):\n",
    "        for j in range(np.size(y)):\n",
    "            slong.append(x[i])\n",
    "            slat.append(y[j])\n",
    "    return slong,slat\n",
    "\n",
    "slong, slat=make_source_grid_hetero(37.0209,37.2251, 4, 3, 0.1)\n",
    "print(\"number of grid points = \", len(slat))\n",
    "print(\"number of grid points longitudinally = \", len(slong))\n",
    "plt.scatter(slong, slat)\n",
    "plt.show()"
   ]
  },
  {
   "cell_type": "code",
   "execution_count": null,
   "id": "7c0d25f2-99b2-4d99-b313-6f884e072860",
   "metadata": {},
   "outputs": [],
   "source": []
  }
 ],
 "metadata": {
  "kernelspec": {
   "display_name": "Python 3 (ipykernel)",
   "language": "python",
   "name": "python3"
  },
  "language_info": {
   "codemirror_mode": {
    "name": "ipython",
    "version": 3
   },
   "file_extension": ".py",
   "mimetype": "text/x-python",
   "name": "python",
   "nbconvert_exporter": "python",
   "pygments_lexer": "ipython3",
   "version": "3.10.13"
  }
 },
 "nbformat": 4,
 "nbformat_minor": 5
}
