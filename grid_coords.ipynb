{
 "cells": [
  {
   "cell_type": "code",
   "execution_count": 59,
   "id": "9b6ea02a-2148-4d81-b499-bdd9e26c4eb0",
   "metadata": {},
   "outputs": [
    {
     "name": "stdout",
     "output_type": "stream",
     "text": [
      "number of grid points =  2511\n",
      "grid size is approximately -44.46372394507142\n"
     ]
    },
    {
     "data": {
      "image/png": "[encoded data removed]",
      "text/plain": [
       "<Figure size 640x480 with 1 Axes>"
      ]
     },
     "metadata": {},
     "output_type": "display_data"
    }
   ],
   "source": [
    "import numpy as np\n",
    "import matplotlib.pyplot as plt\n",
    "\n",
    "#this function gives the coordinates of each grid point at variable x and y extends. \n",
    "#make the functions \"strike_coords\" and \"strike_coords_list\" into one function. then make the functions \"strikstrike_coords_grid_list\" and \"makemake_source_grid_along_strike\" into a single function as well, so that the output is the same.\n",
    "\n",
    "latitudes=[] \n",
    "longitudes=[]\n",
    "\n",
    "strike = 58\n",
    "event_lat= 37.2251\n",
    "event_long=37.0209\n",
    "x_extend=400 \n",
    "y_extend=150\n",
    "\n",
    "grid_size_km=10 #this is km spacing, each point will be placed these many kilometers away from the previous grid point\n",
    "def strike_coords(strike, event_lat, event_long,extend):\n",
    "    y_dist=extend * (np.cos(np.deg2rad(strike)))\n",
    "    new_lat= event_lat + (y_dist/111.1)\n",
    "    x_dist=extend * (np.sin(np.deg2rad(strike)))\n",
    "   # denom=111.32\n",
    "    denom = 111.32 * np.cos(np.deg2rad(event_lat))\n",
    "    if np.abs(denom) < 1e-2:\n",
    "        new_long = event_long  # No reliable longitude change, would result in unsuitable values\n",
    "    else:\n",
    "        new_long = event_long + (x_dist / denom)\n",
    "    \n",
    "    return new_lat, new_long\n",
    "def eqspaced_points_list(strike, event_lat, event_long, extend, grid_size):\n",
    "    lat_long_list=[]\n",
    "    spacing=np.arange(grid_size,extend+grid_size, grid_size)\n",
    "    \n",
    "    for i in spacing:\n",
    "        lat_long_list.append(strike_coords(strike, event_lat, event_long, -i))\n",
    "    lat_long_list.append(strike_coords(strike, event_lat, event_long, 0))\n",
    "    for j in spacing:\n",
    "        lat_long_list.append(strike_coords(strike, event_lat, event_long, j))\n",
    "    \n",
    "    return lat_long_list\n",
    "\n",
    "\n",
    "def make_source_grid_along_strike(strike, event_lat, event_long, x_extend, y_extend, grid_size_km_spacing):\n",
    "\n",
    "    '''The main differences in this function from the previous make_source_grid_hetero are\n",
    "    1)This function orients the source grid along the strike direction\n",
    "    2)This function has its x and y extends in Kms, rather than in degrees. although \n",
    "    there can be a \n",
    "    3)The grid points are placed in equivalent extends, which are given in kilometers. \n",
    "    modification made so that we can input in degrees rather than in kilometers\n",
    "    '''\n",
    "    \n",
    "    grid_list=[]\n",
    "    temp=[]\n",
    "    strike_perpendicular = (strike + 90) % 360\n",
    "    strike_perpendicular_list=eqspaced_points_list(strike_perpendicular, event_lat, event_long, y_extend, grid_size_km_spacing)\n",
    "    for i in strike_perpendicular_list:\n",
    "        temp=eqspaced_points_list(strike, i[0], i[1], x_extend, grid_size_km_spacing)\n",
    "        grid_list.append(temp)\n",
    "        temp=[]\n",
    "    \n",
    "    \n",
    "    #for i in strike_perpendicular_list:\n",
    "    #   temp=strike_coords_list(strike, i[0], i[1], x_extend, grid_size_km_spacing)\n",
    "    #    grid_list.append(temp)\n",
    "    #    temp=[]\n",
    "    slat=[]\n",
    "    slong=[]\n",
    "    slat = [coord[0] for row in grid_list for coord in row]\n",
    "    slong= [coord[1] for row in grid_list for coord in row]\n",
    "    return slong, slat\n",
    "    \n",
    "longitudes, latitudes = make_source_grid_along_strike(strike, event_lat, event_long, x_extend, y_extend, grid_size_km)\n",
    "print(\"number of grid points = \", len(latitudes))\n",
    "gridlen=111.1*(latitudes[1]-latitudes[0])/(np.cos(strike))\n",
    "print(\"grid size is approximately\", gridlen)\n",
    "plt.scatter(longitudes, latitudes)\n",
    "plt.plot(event_long, event_lat, marker='*',markersize=10,markeredgecolor='red',markeredgewidth=2)\n",
    "plt.show()\n",
    "\n"
   ]
  },
  {
   "cell_type": "code",
   "execution_count": 36,
   "id": "db2bef3a-5c54-4a18-9db7-ac8822dd3010",
   "metadata": {},
   "outputs": [
    {
     "data": {
      "text/plain": [
       "array([   0,  -10,  -20,  -30,  -40,  -50,  -60,  -70,  -80,  -90, -100,\n",
       "       -110, -120, -130, -140, -150, -160, -170, -180, -190, -200, -210,\n",
       "       -220, -230, -240, -250, -260, -270, -280, -290, -300, -310, -320,\n",
       "       -330, -340, -350, -360, -370, -380, -390, -400, -410, -420, -430,\n",
       "       -440, -450, -460, -470, -480, -490, -500, -510, -520, -530, -540,\n",
       "       -550, -560, -570, -580, -590, -600])"
      ]
     },
     "execution_count": 36,
     "metadata": {},
     "output_type": "execute_result"
    }
   ],
   "source": [
    "spacing=np.arange(0,600 +(10), 10)\n",
    "neg_spacing=-spacing\n",
    "neg_spacing"
   ]
  },
  {
   "cell_type": "code",
   "execution_count": 60,
   "id": "bf705a08-c400-449d-bbfb-a9a24397d48a",
   "metadata": {},
   "outputs": [
    {
     "name": "stdout",
     "output_type": "stream",
     "text": [
      "number of grid points =  4800\n"
     ]
    },
    {
     "data": {
      "image/png": "[encoded data removed]",
      "text/plain": [
       "<Figure size 640x480 with 1 Axes>"
      ]
     },
     "metadata": {},
     "output_type": "display_data"
    }
   ],
   "source": [
    "def make_source_grid_hetero(event_long,event_lat,source_grid_extend_x,\n",
    "                            source_grid_extend_y,source_grid_size):\n",
    "    '''\n",
    "    This function makes potential source grid around the epicentre in a area\n",
    "    defined by a variable source_grid_extend in x and y directions, discretized at a constant\n",
    "    source_grid_size\n",
    "    Retunrs   slat ,slong\n",
    "\n",
    "    '''\n",
    "    x=np.arange(event_long-source_grid_extend_x,event_long+source_grid_extend_x,source_grid_size)\n",
    "    y=np.arange(event_lat-source_grid_extend_y,event_lat+source_grid_extend_y,source_grid_size)\n",
    "    slat = []\n",
    "    slong = []\n",
    "    for i in range(np.size(x)):\n",
    "        for j in range(np.size(y)):\n",
    "            slong.append(x[i])\n",
    "            slat.append(y[j])\n",
    "    return slong,slat\n",
    "\n",
    "a,b= make_source_grid_hetero(event_long, event_lat, 4, 3, 0.1)\n",
    "print(\"number of grid points = \", len(a))\n",
    "\n",
    "plt.scatter(a, b)\n",
    "plt.plot(event_long, event_lat, marker='*',markersize=10,markeredgecolor='red',markeredgewidth=2)\n",
    "plt.show()\n",
    "\n"
   ]
  },
  {
   "cell_type": "code",
   "execution_count": null,
   "id": "c221decc-5fbb-4f88-ace2-a3f96e5ad894",
   "metadata": {},
   "outputs": [],
   "source": []
  }
 ],
 "metadata": {
  "kernelspec": {
   "display_name": "Python 3 (ipykernel)",
   "language": "python",
   "name": "python3"
  },
  "language_info": {
   "codemirror_mode": {
    "name": "ipython",
    "version": 3
   },
   "file_extension": ".py",
   "mimetype": "text/x-python",
   "name": "python",
   "nbconvert_exporter": "python",
   "pygments_lexer": "ipython3",
   "version": "3.10.13"
  }
 },
 "nbformat": 4,
 "nbformat_minor": 5
}
